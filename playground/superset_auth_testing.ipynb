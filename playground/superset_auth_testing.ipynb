{
 "cells": [
  {
   "cell_type": "markdown",
   "id": "5e1f0f22",
   "metadata": {},
   "source": [
    "## useful links, threads\n",
    "- https://www.tetranyde.com/blog/embedding-superset\n",
    "- https://github.com/apache/superset/issues/17206\n",
    "- https://github.com/apache/superset/issues/16398\n",
    "- https://github.com/apache/superset/issues/10354#issuecomment-758543077\n",
    "- https://github.com/metriql/metriql-superset/blob/main/metriql2superset/superset.py#L21"
   ]
  },
  {
   "cell_type": "code",
   "execution_count": null,
   "id": "f60af419",
   "metadata": {},
   "outputs": [],
   "source": [
    "import json\n",
    "import requests"
   ]
  },
  {
   "cell_type": "code",
   "execution_count": null,
   "id": "c761c112",
   "metadata": {},
   "outputs": [],
   "source": [
    "base_url = \"http://localhost:10088\""
   ]
  },
  {
   "cell_type": "code",
   "execution_count": null,
   "id": "d8a7f80a",
   "metadata": {},
   "outputs": [],
   "source": [
    "def login():\n",
    "    # Login to Superset to get an access token\n",
    "    payload = json.dumps({\n",
    "        \"username\": \"<>\",\n",
    "        \"password\": \"<>\",\n",
    "        \"provider\": \"db\",\n",
    "        \"refresh\": \"true\"\n",
    "    })\n",
    "    headers = {\n",
    "        'Content-Type': 'application/json'\n",
    "    }\n",
    "    response = requests.post(f\"{base_url}/api/v1/security/login\",\n",
    "                             headers=headers, data=payload)\n",
    "    response.raise_for_status()\n",
    "    return response.json()['access_token']"
   ]
  },
  {
   "cell_type": "code",
   "execution_count": null,
   "id": "6f9b7285",
   "metadata": {},
   "outputs": [],
   "source": [
    "# Request guest token from Superset\n",
    "guest_token_payload = {\n",
    "    \"user\": {\n",
    "        \"username\": '<>',\n",
    "        \"first_name\": '<>',\n",
    "        \"last_name\": '<>',\n",
    "    },\n",
    "    \"resources\": [\n",
    "        {\n",
    "            \"type\": \"dashboard\",\n",
    "            \"id\": \"<>\",\n",
    "        }\n",
    "    ],\n",
    "    # Include Row Level Security (RLS) rules if applicable\n",
    "    \"rls\": []\n",
    "}"
   ]
  },
  {
   "cell_type": "code",
   "execution_count": null,
   "id": "9de2488f",
   "metadata": {},
   "outputs": [],
   "source": [
    "def get_guest_token():\n",
    "    session = requests.Session()\n",
    "    session.headers['Authorization'] = f\"Bearer {access_token}\"\n",
    "    session.headers['Content-Type'] = \"application/json\"\n",
    "    \n",
    "    csrf_url = f\"{base_url}/api/v1/security/csrf_token\"\n",
    "    csrf_response = session.get(csrf_url, verify=False)\n",
    "    csrf_response.raise_for_status()\n",
    "    csrf_token = csrf_response.json()['result']\n",
    "    \n",
    "    session.headers['Referer'] = csrf_url\n",
    "    session.headers['X-CSRFToken'] = csrf_token\n",
    "    \n",
    "    response = session.post(f\"{base_url}/api/v1/security/guest_token\", \n",
    "                        data=json.dumps(guest_token_payload), verify=False)\n",
    "    \n",
    "    return response\n",
    "\n",
    "resp = get_guest_token()"
   ]
  }
 ],
 "metadata": {
  "kernelspec": {
   "display_name": "Python 3",
   "language": "python",
   "name": "python3"
  },
  "language_info": {
   "codemirror_mode": {
    "name": "ipython",
    "version": 3
   },
   "file_extension": ".py",
   "mimetype": "text/x-python",
   "name": "python",
   "nbconvert_exporter": "python",
   "pygments_lexer": "ipython3",
   "version": "3.9.16"
  }
 },
 "nbformat": 4,
 "nbformat_minor": 5
}
